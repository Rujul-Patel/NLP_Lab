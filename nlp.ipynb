{
 "metadata": {
  "language_info": {
   "codemirror_mode": {
    "name": "ipython",
    "version": 3
   },
   "file_extension": ".py",
   "mimetype": "text/x-python",
   "name": "python",
   "nbconvert_exporter": "python",
   "pygments_lexer": "ipython3",
   "version": "3.9.0-final"
  },
  "orig_nbformat": 2,
  "kernelspec": {
   "name": "python3",
   "display_name": "Python 3"
  }
 },
 "nbformat": 4,
 "nbformat_minor": 2,
 "cells": [
  {
   "cell_type": "code",
   "execution_count": 1,
   "metadata": {},
   "outputs": [],
   "source": [
    "#################\n",
    "## UI17CO49 \n",
    "## B2\n",
    "#################"
   ]
  },
  {
   "source": [
    "## Importing libraries\n"
   ],
   "cell_type": "markdown",
   "metadata": {}
  },
  {
   "source": [
    "import nltk\n",
    "nltk.download('punkt')"
   ],
   "cell_type": "code",
   "metadata": {},
   "execution_count": 2,
   "outputs": [
    {
     "output_type": "stream",
     "name": "stderr",
     "text": [
      "[nltk_data] Downloading package punkt to /home/vishwas/nltk_data...\n[nltk_data]   Package punkt is already up-to-date!\n"
     ]
    },
    {
     "output_type": "execute_result",
     "data": {
      "text/plain": [
       "True"
      ]
     },
     "metadata": {},
     "execution_count": 2
    }
   ]
  },
  {
   "source": [
    "## defining the raw text para-wise"
   ],
   "cell_type": "markdown",
   "metadata": {}
  },
  {
   "cell_type": "code",
   "execution_count": 3,
   "metadata": {},
   "outputs": [],
   "source": [
    "raw_text1 = \"The COVID-19 pandemic, also known as the coronavirus pandemic, is an ongoing pandemic of coronavirus disease 2019 (COVID-19) caused by severe acute respiratory syndrome coronavirus 2 (SARS-CoV-2). It was first identified in December 2019 in Wuhan, China. The World Health Organization declared the outbreak a Public Health Emergency of International Concern in January 2020 and a pandemic in March 2020. As of 15 December 2020, more than 72.8 million cases have been confirmed, with more than 1.62 million deaths attributed to COVID-19.\" \n",
    "\n",
    "raw_text2 = \"Symptoms of COVID-19 are highly variable, ranging from none to severe illness. The virus spreads mainly through the air when people are near each other. It leaves an infected person as they breathe, cough, sneeze, or speak and enters another person via their mouth, nose, or eyes. It might also spread via contaminated surfaces. People remain infectious for up to two weeks, and can spread the virus even if they do not have symptoms.\"\n",
    "\n",
    "raw_text3 = \"Recommended preventive measures include social distancing, wearing a face mask in public, ventilation and air-filtering, hand washing, covering one's mouth when sneezing or coughing, disinfecting surfaces, and monitoring and self-isolation for people exposed or symptomatic. There are several COVID-19 vaccines in development. Current treatments focus on addressing symptoms while work is underway to develop therapeutic drugs that inhibit the virus. Authorities worldwide have responded by implementing travel restrictions, lockdowns, workplace hazard controls, and facility closures.\""
   ]
  },
  {
   "source": [
    "## import necessary functions"
   ],
   "cell_type": "markdown",
   "metadata": {}
  },
  {
   "cell_type": "code",
   "execution_count": 4,
   "metadata": {},
   "outputs": [],
   "source": [
    "from nltk.tokenize import word_tokenize\n",
    "from nltk.tokenize import sent_tokenize"
   ]
  },
  {
   "source": [
    "### 1. performing tokenization, lemmatization and removing stopwords in 2nd paragraph "
   ],
   "cell_type": "markdown",
   "metadata": {}
  },
  {
   "cell_type": "code",
   "execution_count": 5,
   "metadata": {},
   "outputs": [],
   "source": [
    "words_2 = word_tokenize(raw_text2)"
   ]
  },
  {
   "cell_type": "code",
   "execution_count": 6,
   "metadata": {},
   "outputs": [
    {
     "output_type": "execute_result",
     "data": {
      "text/plain": [
       "86"
      ]
     },
     "metadata": {},
     "execution_count": 6
    }
   ],
   "source": [
    "len(words_2)"
   ]
  },
  {
   "source": [
    "# removing punctuation\n",
    "import string\n",
    "only_words = [i for i in words_2 if not i in string.punctuation]\n",
    "len(only_words)"
   ],
   "cell_type": "code",
   "metadata": {},
   "execution_count": 7,
   "outputs": [
    {
     "output_type": "execute_result",
     "data": {
      "text/plain": [
       "74"
      ]
     },
     "metadata": {},
     "execution_count": 7
    }
   ]
  },
  {
   "cell_type": "code",
   "execution_count": 8,
   "metadata": {},
   "outputs": [
    {
     "output_type": "stream",
     "name": "stderr",
     "text": [
      "[nltk_data] Downloading package stopwords to\n[nltk_data]     /home/vishwas/nltk_data...\n[nltk_data]   Package stopwords is already up-to-date!\n"
     ]
    }
   ],
   "source": [
    "# removing stopwords\n",
    "nltk.download(\"stopwords\")\n",
    "from nltk.corpus import stopwords\n",
    "stopwords = set(stopwords.words(\"english\"))"
   ]
  },
  {
   "cell_type": "code",
   "execution_count": 9,
   "metadata": {},
   "outputs": [
    {
     "output_type": "execute_result",
     "data": {
      "text/plain": [
       "46"
      ]
     },
     "metadata": {},
     "execution_count": 9
    }
   ],
   "source": [
    "only_words = [i for i in only_words if not i in stopwords]\n",
    "len(only_words)"
   ]
  },
  {
   "cell_type": "code",
   "execution_count": 10,
   "metadata": {},
   "outputs": [
    {
     "output_type": "stream",
     "name": "stderr",
     "text": [
      "[nltk_data] Downloading package wordnet to /home/vishwas/nltk_data...\n[nltk_data]   Package wordnet is already up-to-date!\n"
     ]
    },
    {
     "output_type": "execute_result",
     "data": {
      "text/plain": [
       "46"
      ]
     },
     "metadata": {},
     "execution_count": 10
    }
   ],
   "source": [
    "# lemmatizing\n",
    "nltk.download('wordnet')\n",
    "from nltk.corpus import wordnet\n",
    "from nltk.stem import WordNetLemmatizer\n",
    "wnl = WordNetLemmatizer()\n",
    "\n",
    "lemmatized_words = [wnl.lemmatize(i) for i in only_words]\n",
    "len(lemmatized_words)"
   ]
  },
  {
   "source": [
    "### 2. getting the definition of 'hazard'"
   ],
   "cell_type": "markdown",
   "metadata": {}
  },
  {
   "cell_type": "code",
   "execution_count": 11,
   "metadata": {},
   "outputs": [
    {
     "output_type": "stream",
     "name": "stdout",
     "text": [
      "Definition of hazard is \n\ta source of danger; a possibility of incurring loss or misfortune\n"
     ]
    }
   ],
   "source": [
    "syns = wordnet.synsets('hazard')\n",
    "print(f\"Definition of hazard is \\n\\t{syns[0].definition()}\")"
   ]
  },
  {
   "source": [
    "### 3. add a csv file to get the antonym of virus, vaccines and deaths from the above paragraph."
   ],
   "cell_type": "markdown",
   "metadata": {}
  },
  {
   "cell_type": "code",
   "execution_count": 12,
   "metadata": {},
   "outputs": [],
   "source": [
    "import pandas as pd"
   ]
  },
  {
   "cell_type": "code",
   "execution_count": 13,
   "metadata": {},
   "outputs": [
    {
     "output_type": "execute_result",
     "data": {
      "text/plain": [
       "          0           1\n",
       "0     virus  anti-virus\n",
       "1  vaccines         ABC\n",
       "2    deaths      births"
      ],
      "text/html": "<div>\n<style scoped>\n    .dataframe tbody tr th:only-of-type {\n        vertical-align: middle;\n    }\n\n    .dataframe tbody tr th {\n        vertical-align: top;\n    }\n\n    .dataframe thead th {\n        text-align: right;\n    }\n</style>\n<table border=\"1\" class=\"dataframe\">\n  <thead>\n    <tr style=\"text-align: right;\">\n      <th></th>\n      <th>0</th>\n      <th>1</th>\n    </tr>\n  </thead>\n  <tbody>\n    <tr>\n      <th>0</th>\n      <td>virus</td>\n      <td>anti-virus</td>\n    </tr>\n    <tr>\n      <th>1</th>\n      <td>vaccines</td>\n      <td>ABC</td>\n    </tr>\n    <tr>\n      <th>2</th>\n      <td>deaths</td>\n      <td>births</td>\n    </tr>\n  </tbody>\n</table>\n</div>"
     },
     "metadata": {},
     "execution_count": 13
    }
   ],
   "source": [
    "x = [['virus', 'antidote'], ['vaccines', 'toxin'], ['deaths', 'lives']]\n",
    "x = pd.DataFrame(x)\n",
    "x"
   ]
  },
  {
   "cell_type": "code",
   "execution_count": 14,
   "metadata": {},
   "outputs": [
    {
     "output_type": "execute_result",
     "data": {
      "text/plain": [
       "(3, 2)"
      ]
     },
     "metadata": {},
     "execution_count": 14
    }
   ],
   "source": [
    "x.shape"
   ]
  },
  {
   "cell_type": "code",
   "execution_count": 15,
   "metadata": {},
   "outputs": [],
   "source": [
    "x.to_csv(\"./antonym.csv\")"
   ]
  },
  {
   "cell_type": "code",
   "execution_count": 16,
   "metadata": {},
   "outputs": [],
   "source": [
    "del x"
   ]
  },
  {
   "cell_type": "code",
   "execution_count": 17,
   "metadata": {},
   "outputs": [],
   "source": [
    "x = pd.read_csv('antonym.csv', index_col=0)"
   ]
  },
  {
   "cell_type": "code",
   "execution_count": 18,
   "metadata": {},
   "outputs": [
    {
     "output_type": "execute_result",
     "data": {
      "text/plain": [
       "          0           1\n",
       "0     virus  anti-virus\n",
       "1  vaccines         ABC\n",
       "2    deaths      births"
      ],
      "text/html": "<div>\n<style scoped>\n    .dataframe tbody tr th:only-of-type {\n        vertical-align: middle;\n    }\n\n    .dataframe tbody tr th {\n        vertical-align: top;\n    }\n\n    .dataframe thead th {\n        text-align: right;\n    }\n</style>\n<table border=\"1\" class=\"dataframe\">\n  <thead>\n    <tr style=\"text-align: right;\">\n      <th></th>\n      <th>0</th>\n      <th>1</th>\n    </tr>\n  </thead>\n  <tbody>\n    <tr>\n      <th>0</th>\n      <td>virus</td>\n      <td>anti-virus</td>\n    </tr>\n    <tr>\n      <th>1</th>\n      <td>vaccines</td>\n      <td>ABC</td>\n    </tr>\n    <tr>\n      <th>2</th>\n      <td>deaths</td>\n      <td>births</td>\n    </tr>\n  </tbody>\n</table>\n</div>"
     },
     "metadata": {},
     "execution_count": 18
    }
   ],
   "source": [
    "x"
   ]
  },
  {
   "cell_type": "code",
   "execution_count": 19,
   "metadata": {},
   "outputs": [
    {
     "output_type": "execute_result",
     "data": {
      "text/plain": [
       "3"
      ]
     },
     "metadata": {},
     "execution_count": 19
    }
   ],
   "source": [
    "x.shape[0]"
   ]
  },
  {
   "cell_type": "code",
   "execution_count": 20,
   "metadata": {},
   "outputs": [],
   "source": [
    "def get_antonym(word):\n",
    "    \n",
    "    for i in range(x.shape[0]):\n",
    "        if x.iloc[i,0] == word:\n",
    "            return (x.iloc[i, 1], 'changed')\n",
    "    \n",
    "    return (word, 'not changed')"
   ]
  },
  {
   "cell_type": "code",
   "execution_count": 21,
   "metadata": {},
   "outputs": [
    {
     "output_type": "execute_result",
     "data": {
      "text/plain": [
       "('anti-virus', 'changed')"
      ]
     },
     "metadata": {},
     "execution_count": 21
    }
   ],
   "source": [
    "get_antonym('virus')"
   ]
  },
  {
   "cell_type": "code",
   "execution_count": 22,
   "metadata": {},
   "outputs": [],
   "source": [
    "words = word_tokenize(raw_text1+raw_text2+raw_text3)"
   ]
  },
  {
   "cell_type": "code",
   "execution_count": 23,
   "metadata": {},
   "outputs": [],
   "source": [
    "only_words = [i for i in words if not i in stopwords]\n",
    "only_words = [i for i in only_words if not i in string.punctuation]\n"
   ]
  },
  {
   "cell_type": "code",
   "execution_count": 24,
   "metadata": {},
   "outputs": [
    {
     "output_type": "execute_result",
     "data": {
      "text/plain": [
       "157"
      ]
     },
     "metadata": {},
     "execution_count": 24
    }
   ],
   "source": [
    "len(only_words)"
   ]
  },
  {
   "cell_type": "code",
   "execution_count": 25,
   "metadata": {},
   "outputs": [
    {
     "output_type": "stream",
     "name": "stdout",
     "text": [
      "('The', 'not changed')\n('COVID-19', 'not changed')\n('pandemic', 'not changed')\n('also', 'not changed')\n('known', 'not changed')\n('coronavirus', 'not changed')\n('pandemic', 'not changed')\n('ongoing', 'not changed')\n('pandemic', 'not changed')\n('coronavirus', 'not changed')\n('disease', 'not changed')\n('2019', 'not changed')\n('COVID-19', 'not changed')\n('caused', 'not changed')\n('severe', 'not changed')\n('acute', 'not changed')\n('respiratory', 'not changed')\n('syndrome', 'not changed')\n('coronavirus', 'not changed')\n('2', 'not changed')\n('SARS-CoV-2', 'not changed')\n('It', 'not changed')\n('first', 'not changed')\n('identified', 'not changed')\n('December', 'not changed')\n('2019', 'not changed')\n('Wuhan', 'not changed')\n('China', 'not changed')\n('The', 'not changed')\n('World', 'not changed')\n('Health', 'not changed')\n('Organization', 'not changed')\n('declared', 'not changed')\n('outbreak', 'not changed')\n('Public', 'not changed')\n('Health', 'not changed')\n('Emergency', 'not changed')\n('International', 'not changed')\n('Concern', 'not changed')\n('January', 'not changed')\n('2020', 'not changed')\n('pandemic', 'not changed')\n('March', 'not changed')\n('2020', 'not changed')\n('As', 'not changed')\n('15', 'not changed')\n('December', 'not changed')\n('2020', 'not changed')\n('72.8', 'not changed')\n('million', 'not changed')\n('cases', 'not changed')\n('confirmed', 'not changed')\n('1.62', 'not changed')\n('million', 'not changed')\n('births', 'changed')\n('attributed', 'not changed')\n('COVID-19.Symptoms', 'not changed')\n('COVID-19', 'not changed')\n('highly', 'not changed')\n('variable', 'not changed')\n('ranging', 'not changed')\n('none', 'not changed')\n('severe', 'not changed')\n('illness', 'not changed')\n('The', 'not changed')\n('anti-virus', 'changed')\n('spreads', 'not changed')\n('mainly', 'not changed')\n('air', 'not changed')\n('people', 'not changed')\n('near', 'not changed')\n('It', 'not changed')\n('leaves', 'not changed')\n('infected', 'not changed')\n('person', 'not changed')\n('breathe', 'not changed')\n('cough', 'not changed')\n('sneeze', 'not changed')\n('speak', 'not changed')\n('enters', 'not changed')\n('another', 'not changed')\n('person', 'not changed')\n('via', 'not changed')\n('mouth', 'not changed')\n('nose', 'not changed')\n('eyes', 'not changed')\n('It', 'not changed')\n('might', 'not changed')\n('also', 'not changed')\n('spread', 'not changed')\n('via', 'not changed')\n('contaminated', 'not changed')\n('surfaces', 'not changed')\n('People', 'not changed')\n('remain', 'not changed')\n('infectious', 'not changed')\n('two', 'not changed')\n('weeks', 'not changed')\n('spread', 'not changed')\n('anti-virus', 'changed')\n('even', 'not changed')\n('symptoms.Recommended', 'not changed')\n('preventive', 'not changed')\n('measures', 'not changed')\n('include', 'not changed')\n('social', 'not changed')\n('distancing', 'not changed')\n('wearing', 'not changed')\n('face', 'not changed')\n('mask', 'not changed')\n('public', 'not changed')\n('ventilation', 'not changed')\n('air-filtering', 'not changed')\n('hand', 'not changed')\n('washing', 'not changed')\n('covering', 'not changed')\n('one', 'not changed')\n(\"'s\", 'not changed')\n('mouth', 'not changed')\n('sneezing', 'not changed')\n('coughing', 'not changed')\n('disinfecting', 'not changed')\n('surfaces', 'not changed')\n('monitoring', 'not changed')\n('self-isolation', 'not changed')\n('people', 'not changed')\n('exposed', 'not changed')\n('symptomatic', 'not changed')\n('There', 'not changed')\n('several', 'not changed')\n('COVID-19', 'not changed')\n('ABC', 'changed')\n('development', 'not changed')\n('Current', 'not changed')\n('treatments', 'not changed')\n('focus', 'not changed')\n('addressing', 'not changed')\n('symptoms', 'not changed')\n('work', 'not changed')\n('underway', 'not changed')\n('develop', 'not changed')\n('therapeutic', 'not changed')\n('drugs', 'not changed')\n('inhibit', 'not changed')\n('anti-virus', 'changed')\n('Authorities', 'not changed')\n('worldwide', 'not changed')\n('responded', 'not changed')\n('implementing', 'not changed')\n('travel', 'not changed')\n('restrictions', 'not changed')\n('lockdowns', 'not changed')\n('workplace', 'not changed')\n('hazard', 'not changed')\n('controls', 'not changed')\n('facility', 'not changed')\n('closures', 'not changed')\n"
     ]
    }
   ],
   "source": [
    "for i in only_words:\n",
    "    print(get_antonym(i))"
   ]
  },
  {
   "source": [
    "### 4. tokenize and tag all the words in the 1st para with default universal tagset"
   ],
   "cell_type": "markdown",
   "metadata": {}
  },
  {
   "cell_type": "code",
   "execution_count": 26,
   "metadata": {},
   "outputs": [],
   "source": [
    "words = word_tokenize(raw_text1)"
   ]
  },
  {
   "cell_type": "code",
   "execution_count": 27,
   "metadata": {},
   "outputs": [],
   "source": [
    "only_words = [i for i in words if not i in stopwords]\n",
    "only_words = [i for i in only_words if not i in string.punctuation]"
   ]
  },
  {
   "cell_type": "code",
   "execution_count": 28,
   "metadata": {},
   "outputs": [
    {
     "output_type": "execute_result",
     "data": {
      "text/plain": [
       "57"
      ]
     },
     "metadata": {},
     "execution_count": 28
    }
   ],
   "source": [
    "len(only_words)"
   ]
  },
  {
   "cell_type": "code",
   "execution_count": 29,
   "metadata": {},
   "outputs": [
    {
     "output_type": "stream",
     "name": "stderr",
     "text": [
      "[nltk_data] Downloading package universal_tagset to\n[nltk_data]     /home/vishwas/nltk_data...\n[nltk_data]   Package universal_tagset is already up-to-date!\n[nltk_data] Downloading package averaged_perceptron_tagger to\n[nltk_data]     /home/vishwas/nltk_data...\n[nltk_data]   Package averaged_perceptron_tagger is already up-to-\n[nltk_data]       date!\n[nltk_data] Downloading package brown to /home/vishwas/nltk_data...\n[nltk_data]   Package brown is already up-to-date!\n"
     ]
    },
    {
     "output_type": "execute_result",
     "data": {
      "text/plain": [
       "True"
      ]
     },
     "metadata": {},
     "execution_count": 29
    }
   ],
   "source": [
    "nltk.download('universal_tagset')\n",
    "nltk.download('averaged_perceptron_tagger')\n",
    "nltk.download('brown')"
   ]
  },
  {
   "cell_type": "code",
   "execution_count": 30,
   "metadata": {},
   "outputs": [
    {
     "output_type": "execute_result",
     "data": {
      "text/plain": [
       "[('The', 'DT'),\n",
       " ('COVID-19', 'NNP'),\n",
       " ('pandemic', 'NN'),\n",
       " ('also', 'RB'),\n",
       " ('known', 'VBN'),\n",
       " ('coronavirus', 'NN'),\n",
       " ('pandemic', 'JJ'),\n",
       " ('ongoing', 'JJ'),\n",
       " ('pandemic', 'JJ'),\n",
       " ('coronavirus', 'NN'),\n",
       " ('disease', 'NN'),\n",
       " ('2019', 'CD'),\n",
       " ('COVID-19', 'NNP'),\n",
       " ('caused', 'VBD'),\n",
       " ('severe', 'JJ'),\n",
       " ('acute', 'JJ'),\n",
       " ('respiratory', 'NN'),\n",
       " ('syndrome', 'NN'),\n",
       " ('coronavirus', 'NN'),\n",
       " ('2', 'CD'),\n",
       " ('SARS-CoV-2', 'NN'),\n",
       " ('It', 'PRP'),\n",
       " ('first', 'RB'),\n",
       " ('identified', 'VBD'),\n",
       " ('December', 'NNP'),\n",
       " ('2019', 'CD'),\n",
       " ('Wuhan', 'NNP'),\n",
       " ('China', 'NNP'),\n",
       " ('The', 'DT'),\n",
       " ('World', 'NNP'),\n",
       " ('Health', 'NNP'),\n",
       " ('Organization', 'NNP'),\n",
       " ('declared', 'VBD'),\n",
       " ('outbreak', 'JJ'),\n",
       " ('Public', 'NNP'),\n",
       " ('Health', 'NNP'),\n",
       " ('Emergency', 'NNP'),\n",
       " ('International', 'NNP'),\n",
       " ('Concern', 'NNP'),\n",
       " ('January', 'NNP'),\n",
       " ('2020', 'CD'),\n",
       " ('pandemic', 'IN'),\n",
       " ('March', 'NNP'),\n",
       " ('2020', 'CD'),\n",
       " ('As', 'IN'),\n",
       " ('15', 'CD'),\n",
       " ('December', 'NNP'),\n",
       " ('2020', 'CD'),\n",
       " ('72.8', 'CD'),\n",
       " ('million', 'CD'),\n",
       " ('cases', 'NNS'),\n",
       " ('confirmed', 'VBD'),\n",
       " ('1.62', 'CD'),\n",
       " ('million', 'CD'),\n",
       " ('deaths', 'NNS'),\n",
       " ('attributed', 'VBD'),\n",
       " ('COVID-19', 'JJ')]"
      ]
     },
     "metadata": {},
     "execution_count": 30
    }
   ],
   "source": [
    "nltk.pos_tag(only_words)"
   ]
  },
  {
   "source": [
    "### 5. use brill tagger to tag the 3rd para and also calculate the accuracy"
   ],
   "cell_type": "markdown",
   "metadata": {}
  },
  {
   "cell_type": "code",
   "execution_count": 31,
   "metadata": {},
   "outputs": [],
   "source": [
    "from nltk.tag import brill, brill_trainer\n",
    "\n",
    "def train_brill_tagger(initial_tagger, train_sents, **kwargs):\n",
    "    templates = [\n",
    "                 brill.Template(brill.Pos([-1])),\n",
    "                 brill.Template(brill.Pos([1])),\n",
    "                 brill.Template(brill.Pos([-2])),\n",
    "                 brill.Template(brill.Pos([2])),\n",
    "                 brill.Template(brill.Pos([-2, -1])),\n",
    "                 brill.Template(brill.Pos([1, 2])),\n",
    "                 brill.Template(brill.Pos([-3, -2, -1])),\n",
    "                 brill.Template(brill.Pos([1, 2, 3])),\n",
    "                 brill.Template(brill.Pos([-1]), brill.Pos([1])),\n",
    "                 brill.Template(brill.Word([-1])),\n",
    "                 brill.Template(brill.Word([1])),\n",
    "                 brill.Template(brill.Word([-2])),\n",
    "                 brill.Template(brill.Word([2])),\n",
    "                 brill.Template(brill.Word([-2, -1])),\n",
    "                 brill.Template(brill.Word([1, 2])),\n",
    "                 brill.Template(brill.Word([-3, -2, -1])),\n",
    "                 brill.Template(brill.Word([1, 2, 3])),\n",
    "                 brill.Template(brill.Word([-1]), brill.Word([1])),\n",
    "    ]\n",
    "\n",
    "    trainer = brill_trainer.BrillTaggerTrainer(initial_tagger, templates, deterministic=True)\n",
    "\n",
    "    return trainer.train(train_sents, **kwargs)"
   ]
  },
  {
   "cell_type": "code",
   "execution_count": 32,
   "metadata": {},
   "outputs": [],
   "source": [
    "def backoff_tagger(train_sents, tagger_classes, backoff=None):\n",
    "\n",
    "    for cls in tagger_classes:\n",
    "        backoff = cls(train_sents, backoff=backoff)\n",
    "    \n",
    "    return backoff"
   ]
  },
  {
   "cell_type": "code",
   "execution_count": 33,
   "metadata": {},
   "outputs": [],
   "source": [
    "from nltk.tag import DefaultTagger\n",
    "from nltk.tag import UnigramTagger, BigramTagger, TrigramTagger\n",
    "from nltk.corpus import brown"
   ]
  },
  {
   "cell_type": "code",
   "execution_count": 34,
   "metadata": {},
   "outputs": [],
   "source": [
    "sents = sent_tokenize(raw_text3)\n",
    "tagged_sents = nltk.pos_tag_sents(sents)\n",
    "\n",
    "limit = int(len(tagged_sents)*0.80)\n",
    "train_sents = tagged_sents[:limit]\n",
    "test_sents = tagged_sents[limit:]"
   ]
  },
  {
   "cell_type": "code",
   "execution_count": 35,
   "metadata": {},
   "outputs": [],
   "source": [
    "default_tag = DefaultTagger('NN')\n",
    "\n",
    "#tagged_sents = brown.tagged_sents(categories=\"news\", tagset=\"universal\")\n",
    "\n",
    "initial_tag = backoff_tagger(train_sents, \n",
    "                [UnigramTagger, BigramTagger, TrigramTagger],\n",
    "                backoff=default_tag)"
   ]
  },
  {
   "cell_type": "code",
   "execution_count": 36,
   "metadata": {},
   "outputs": [],
   "source": [
    "#tagged_para = [nltk.pos_tag(sents[i].split()) for i in range(len(sents))]\n",
    "#tagged_para[0]"
   ]
  },
  {
   "cell_type": "code",
   "execution_count": 44,
   "metadata": {},
   "outputs": [
    {
     "output_type": "stream",
     "name": "stdout",
     "text": [
      "The accuracy is 77.612 of the brill tagger!\n"
     ]
    }
   ],
   "source": [
    "brill_tagger = train_brill_tagger(initial_tag, train_sents)\n",
    "b = brill_tagger.evaluate(test_sents)\n",
    "print(f\"The accuracy is {round(b*100, 3)} of the brill tagger!\")"
   ]
  },
  {
   "source": [
    "### 6. create cfg rule and implement a recursive descent parser"
   ],
   "cell_type": "markdown",
   "metadata": {}
  },
  {
   "cell_type": "code",
   "execution_count": 38,
   "metadata": {},
   "outputs": [],
   "source": [
    "from nltk import CFG\n",
    "\n",
    "grammar = CFG.fromstring(\"\"\"\n",
    "    S -> NP VP\n",
    "    PP -> P NP\n",
    "    NP -> 'the' N | N PP | 'the' N PP\n",
    "    VP -> V NP | V PP | V NP PP\n",
    "    N -> 'cat' | 'dog' | 'rug'\n",
    "    V -> 'chased' | 'sat'\n",
    "    P -> 'in' | 'on'\n",
    "\"\"\")"
   ]
  },
  {
   "cell_type": "code",
   "execution_count": 39,
   "metadata": {},
   "outputs": [],
   "source": [
    "from nltk.parse import RecursiveDescentParser\n",
    "\n",
    "rdp = RecursiveDescentParser(grammar)"
   ]
  },
  {
   "cell_type": "code",
   "execution_count": 40,
   "metadata": {},
   "outputs": [
    {
     "output_type": "execute_result",
     "data": {
      "text/plain": [
       "<nltk.parse.recursivedescent.RecursiveDescentParser at 0x7fecc6042b50>"
      ]
     },
     "metadata": {},
     "execution_count": 40
    }
   ],
   "source": [
    "rdp"
   ]
  },
  {
   "cell_type": "code",
   "execution_count": 41,
   "metadata": {},
   "outputs": [
    {
     "output_type": "stream",
     "name": "stdout",
     "text": [
      "(S (NP the (N cat)) (VP (V chased) (NP the (N dog))))\n"
     ]
    }
   ],
   "source": [
    "sent = \"the cat chased the dog\".split()\n",
    "for t in rdp.parse(sent):\n",
    "    print(t)"
   ]
  },
  {
   "source": [
    "### 7. parse tree for any sentence with ambiguity"
   ],
   "cell_type": "markdown",
   "metadata": {}
  },
  {
   "cell_type": "code",
   "execution_count": 42,
   "metadata": {},
   "outputs": [
    {
     "output_type": "stream",
     "name": "stdout",
     "text": [
      "(S\n  (NP the (N cat))\n  (VP (V chased) (NP the (N dog) (PP (P on) (NP the (N rug))))))\n(S\n  (NP the (N cat))\n  (VP (V chased) (NP the (N dog)) (PP (P on) (NP the (N rug)))))\n"
     ]
    }
   ],
   "source": [
    "sent = \"the cat chased the dog on the rug\".split()\n",
    "for t in rdp.parse(sent):\n",
    "    print(t)"
   ]
  },
  {
   "cell_type": "code",
   "execution_count": null,
   "metadata": {},
   "outputs": [],
   "source": []
  }
 ]
}