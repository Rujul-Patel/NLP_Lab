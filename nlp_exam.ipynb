{
 "metadata": {
  "language_info": {
   "codemirror_mode": {
    "name": "ipython",
    "version": 3
   },
   "file_extension": ".py",
   "mimetype": "text/x-python",
   "name": "python",
   "nbconvert_exporter": "python",
   "pygments_lexer": "ipython3",
   "version": "3.9.0-final"
  },
  "orig_nbformat": 2,
  "kernelspec": {
   "name": "python3",
   "display_name": "Python 3"
  }
 },
 "nbformat": 4,
 "nbformat_minor": 2,
 "cells": [
  {
   "source": [
    "# UI17CO20 NLP Practical Assignment"
   ],
   "cell_type": "markdown",
   "metadata": {}
  },
  {
   "cell_type": "code",
   "execution_count": 111,
   "metadata": {},
   "outputs": [
    {
     "output_type": "stream",
     "name": "stderr",
     "text": [
      "[nltk_data] Downloading package punkt to /home/jovyan/nltk_data...\n[nltk_data]   Package punkt is already up-to-date!\n[nltk_data] Downloading package wordnet to /home/jovyan/nltk_data...\n[nltk_data]   Package wordnet is already up-to-date!\n"
     ]
    },
    {
     "output_type": "execute_result",
     "data": {
      "text/plain": [
       "True"
      ]
     },
     "metadata": {},
     "execution_count": 111
    }
   ],
   "source": [
    "#Importing Dependencies\n",
    "import nltk\n",
    "nltk.download('punkt')\n",
    "nltk.download('wordnet')"
   ]
  },
  {
   "source": [
    "### Input Text (2 Paragraph)"
   ],
   "cell_type": "markdown",
   "metadata": {}
  },
  {
   "cell_type": "code",
   "execution_count": 112,
   "metadata": {},
   "outputs": [],
   "source": [
    "text_1 = \"The Parliament of India is the supreme legislative body of the Republic of India. It is a bicameral legislature composed of the President of India and the two houses: the Rajya Sabha (Council of States) and the Lok Sabha (House of the People). The President in his role as head of legislature has full powers to summon and prorogue either house of Parliament or to dissolve Lok Sabha. The president can exercise these powers only upon the advice of the Prime Minister and his Union Council of Ministers.\"\n",
    "\n",
    "text_2 = \"Those elected or nominated (by the President) to either house of Parliament are referred to as Members of Parliament (MP). The Members of Parliament, Lok Sabha are directly elected by the Indian public voting in Single-member districts and the Members of Parliament, Rajya Sabha are elected by the members of all State Legislative Assembly by proportional representation. The Parliament has a sanctioned strength of 543 in Lok Sabha and 245 in Rajya Sabha including the 12 nominees from the expertise of different fields of science, culture, art and history. The Parliament meets at Sansad Bhavan in New Delhi.\""
   ]
  },
  {
   "cell_type": "code",
   "execution_count": 113,
   "metadata": {},
   "outputs": [
    {
     "output_type": "execute_result",
     "data": {
      "text/plain": [
       "'The Parliament of India is the supreme legislative body of the Republic of India. It is a bicameral legislature composed of the President of India and the two houses: the Rajya Sabha (Council of States) and the Lok Sabha (House of the People). The President in his role as head of legislature has full powers to summon and prorogue either house of Parliament or to dissolve Lok Sabha. The president can exercise these powers only upon the advice of the Prime Minister and his Union Council of Ministers.'"
      ]
     },
     "metadata": {},
     "execution_count": 113
    }
   ],
   "source": [
    "text_1"
   ]
  },
  {
   "cell_type": "code",
   "execution_count": 114,
   "metadata": {},
   "outputs": [
    {
     "output_type": "execute_result",
     "data": {
      "text/plain": [
       "'Those elected or nominated (by the President) to either house of Parliament are referred to as Members of Parliament (MP). The Members of Parliament, Lok Sabha are directly elected by the Indian public voting in Single-member districts and the Members of Parliament, Rajya Sabha are elected by the members of all State Legislative Assembly by proportional representation. The Parliament has a sanctioned strength of 543 in Lok Sabha and 245 in Rajya Sabha including the 12 nominees from the expertise of different fields of science, culture, art and history. The Parliament meets at Sansad Bhavan in New Delhi.'"
      ]
     },
     "metadata": {},
     "execution_count": 114
    }
   ],
   "source": [
    "text_2"
   ]
  },
  {
   "source": [
    "### 1. Stemming, Lemmatization and Removing Stopwords from 2nd Paragraph"
   ],
   "cell_type": "markdown",
   "metadata": {}
  },
  {
   "cell_type": "code",
   "execution_count": 115,
   "metadata": {},
   "outputs": [],
   "source": [
    "#Importing Sentence and Work Tokenizer library\n",
    "from nltk.tokenize import word_tokenize\n",
    "from nltk.tokenize import sent_tokenize"
   ]
  },
  {
   "source": [
    "#### Tokeninzing the paragraph to sentence"
   ],
   "cell_type": "markdown",
   "metadata": {}
  },
  {
   "cell_type": "code",
   "execution_count": 116,
   "metadata": {},
   "outputs": [
    {
     "output_type": "stream",
     "name": "stdout",
     "text": [
      "4\n"
     ]
    }
   ],
   "source": [
    "#Tokenizing to sentences\n",
    "sentences = sent_tokenize(text_2)\n",
    "print(len(sentences))"
   ]
  },
  {
   "source": [
    "#### Tokenization of words"
   ],
   "cell_type": "markdown",
   "metadata": {}
  },
  {
   "cell_type": "code",
   "execution_count": 117,
   "metadata": {},
   "outputs": [
    {
     "output_type": "stream",
     "name": "stdout",
     "text": [
      "No of words -  25\nNo of words -  40\nNo of words -  35\nNo of words -  10\n"
     ]
    }
   ],
   "source": [
    "\n",
    "words = []\n",
    "\n",
    "for i in range(len(sentences)):\n",
    "  words.append(word_tokenize(sentences[i]))\n",
    "\n",
    "for s in words:\n",
    "    print(\"No of words - \",len(s))"
   ]
  },
  {
   "cell_type": "code",
   "execution_count": 118,
   "metadata": {},
   "outputs": [
    {
     "output_type": "stream",
     "name": "stderr",
     "text": [
      "[nltk_data] Downloading package stopwords to /home/jovyan/nltk_data...\n[nltk_data]   Package stopwords is already up-to-date!\n"
     ]
    }
   ],
   "source": [
    "#StopWord List\n",
    "nltk.download('stopwords')\n",
    "\n",
    "import string\n",
    "from nltk.corpus import stopwords\n",
    "eng_sw = set(stopwords.words('english'))"
   ]
  },
  {
   "cell_type": "code",
   "execution_count": 119,
   "metadata": {},
   "outputs": [
    {
     "output_type": "execute_result",
     "data": {
      "text/plain": [
       "[['Those',\n",
       "  'elected',\n",
       "  'nominated',\n",
       "  'President',\n",
       "  'either',\n",
       "  'house',\n",
       "  'Parliament',\n",
       "  'referred',\n",
       "  'Members',\n",
       "  'Parliament',\n",
       "  'MP'],\n",
       " ['The',\n",
       "  'Members',\n",
       "  'Parliament',\n",
       "  'Lok',\n",
       "  'Sabha',\n",
       "  'directly',\n",
       "  'elected',\n",
       "  'Indian',\n",
       "  'public',\n",
       "  'voting',\n",
       "  'Single-member',\n",
       "  'districts',\n",
       "  'Members',\n",
       "  'Parliament',\n",
       "  'Rajya',\n",
       "  'Sabha',\n",
       "  'elected',\n",
       "  'members',\n",
       "  'State',\n",
       "  'Legislative',\n",
       "  'Assembly',\n",
       "  'proportional',\n",
       "  'representation'],\n",
       " ['The',\n",
       "  'Parliament',\n",
       "  'sanctioned',\n",
       "  'strength',\n",
       "  '543',\n",
       "  'Lok',\n",
       "  'Sabha',\n",
       "  '245',\n",
       "  'Rajya',\n",
       "  'Sabha',\n",
       "  'including',\n",
       "  '12',\n",
       "  'nominees',\n",
       "  'expertise',\n",
       "  'different',\n",
       "  'fields',\n",
       "  'science',\n",
       "  'culture',\n",
       "  'art',\n",
       "  'history'],\n",
       " ['The', 'Parliament', 'meets', 'Sansad', 'Bhavan', 'New', 'Delhi']]"
      ]
     },
     "metadata": {},
     "execution_count": 119
    }
   ],
   "source": [
    "filtered_words = []\n",
    "\n",
    "#Looping word array\n",
    "for i in range(len(words)):\n",
    "  filtered_words.append([])\n",
    "  for j in range(len(words[i])):\n",
    "\n",
    "    word = words[i][j]\n",
    "\n",
    "    #Check for punctuation and stopword\n",
    "    if word not in string.punctuation:\n",
    "      if word not in eng_sw:\n",
    "        filtered_words[i].append(word)\n",
    "\n",
    "filtered_words"
   ]
  },
  {
   "cell_type": "code",
   "execution_count": 120,
   "metadata": {},
   "outputs": [
    {
     "output_type": "stream",
     "name": "stdout",
     "text": [
      "Requirement already satisfied: tabulate in /opt/conda/lib/python3.8/site-packages (0.8.7)\n"
     ]
    }
   ],
   "source": [
    "!pip install tabulate\n",
    "from tabulate import tabulate"
   ]
  },
  {
   "cell_type": "code",
   "execution_count": 121,
   "metadata": {},
   "outputs": [
    {
     "output_type": "stream",
     "name": "stdout",
     "text": [
      "Sentence 1\n",
      "| Original   | Lemmatized   |\n",
      "|------------+--------------|\n",
      "| Those      | Those        |\n",
      "| elected    | elected      |\n",
      "| nominated  | nominated    |\n",
      "| President  | President    |\n",
      "| either     | either       |\n",
      "| house      | house        |\n",
      "| Parliament | Parliament   |\n",
      "| referred   | referred     |\n",
      "| Members    | Members      |\n",
      "| Parliament | Parliament   |\n",
      "| MP         | MP           |\n",
      "\n",
      "\n",
      "\n",
      "Sentence 2\n",
      "| Original       | Lemmatized     |\n",
      "|----------------+----------------|\n",
      "| The            | The            |\n",
      "| Members        | Members        |\n",
      "| Parliament     | Parliament     |\n",
      "| Lok            | Lok            |\n",
      "| Sabha          | Sabha          |\n",
      "| directly       | directly       |\n",
      "| elected        | elected        |\n",
      "| Indian         | Indian         |\n",
      "| public         | public         |\n",
      "| voting         | voting         |\n",
      "| Single-member  | Single-member  |\n",
      "| districts      | district       |\n",
      "| Members        | Members        |\n",
      "| Parliament     | Parliament     |\n",
      "| Rajya          | Rajya          |\n",
      "| Sabha          | Sabha          |\n",
      "| elected        | elected        |\n",
      "| members        | member         |\n",
      "| State          | State          |\n",
      "| Legislative    | Legislative    |\n",
      "| Assembly       | Assembly       |\n",
      "| proportional   | proportional   |\n",
      "| representation | representation |\n",
      "\n",
      "\n",
      "\n",
      "Sentence 3\n",
      "| Original   | Lemmatized   |\n",
      "|------------+--------------|\n",
      "| The        | The          |\n",
      "| Parliament | Parliament   |\n",
      "| sanctioned | sanctioned   |\n",
      "| strength   | strength     |\n",
      "| 543        | 543          |\n",
      "| Lok        | Lok          |\n",
      "| Sabha      | Sabha        |\n",
      "| 245        | 245          |\n",
      "| Rajya      | Rajya        |\n",
      "| Sabha      | Sabha        |\n",
      "| including  | including    |\n",
      "| 12         | 12           |\n",
      "| nominees   | nominee      |\n",
      "| expertise  | expertise    |\n",
      "| different  | different    |\n",
      "| fields     | field        |\n",
      "| science    | science      |\n",
      "| culture    | culture      |\n",
      "| art        | art          |\n",
      "| history    | history      |\n",
      "\n",
      "\n",
      "\n",
      "Sentence 4\n",
      "| Original   | Lemmatized   |\n",
      "|------------+--------------|\n",
      "| The        | The          |\n",
      "| Parliament | Parliament   |\n",
      "| meets      | meet         |\n",
      "| Sansad     | Sansad       |\n",
      "| Bhavan     | Bhavan       |\n",
      "| New        | New          |\n",
      "| Delhi      | Delhi        |\n",
      "\n",
      "\n",
      "\n"
     ]
    }
   ],
   "source": [
    "# Lemmatization\n",
    "\n",
    "from nltk.stem import WordNetLemmatizer\n",
    "wnl = WordNetLemmatizer()\n",
    "\n",
    "#Store the Original and Lemmatized Word Pair for each sentence\n",
    "lem_res = []\n",
    "\n",
    "#Lemmatization\n",
    "for i in range(len(filtered_words)):\n",
    "  lem_res.append([]);\n",
    "  for j in range(len(filtered_words[i])):\n",
    "    lem_res[i].append([filtered_words[i][j],wnl.lemmatize(filtered_words[i][j])])\n",
    "\n",
    "#Compare the Original and Lemmatized Output\n",
    "for i in range(len(lem_res)):\n",
    "  print(\"Sentence {}\".format(i+1))\n",
    "  print(tabulate(lem_res[i],headers=['Original','Lemmatized'],tablefmt='orgtbl'))\n",
    "  print(\"\\n\\n\")"
   ]
  },
  {
   "cell_type": "code",
   "execution_count": 122,
   "metadata": {},
   "outputs": [
    {
     "output_type": "stream",
     "name": "stdout",
     "text": [
      "Sentence 1\n| Original   | Stemmed    |\n|------------+------------|\n| Those      | those      |\n| elected    | elect      |\n| nominated  | nomin      |\n| President  | presid     |\n| either     | either     |\n| house      | hous       |\n| Parliament | parliament |\n| referred   | refer      |\n| Members    | member     |\n| Parliament | parliament |\n| MP         | MP         |\n\n\n\nSentence 2\n| Original       | Stemmed     |\n|----------------+-------------|\n| The            | the         |\n| Members        | member      |\n| Parliament     | parliament  |\n| Lok            | lok         |\n| Sabha          | sabha       |\n| directly       | directli    |\n| elected        | elect       |\n| Indian         | indian      |\n| public         | public      |\n| voting         | vote        |\n| Single-member  | single-memb |\n| districts      | district    |\n| Members        | member      |\n| Parliament     | parliament  |\n| Rajya          | rajya       |\n| Sabha          | sabha       |\n| elected        | elect       |\n| members        | member      |\n| State          | state       |\n| Legislative    | legisl      |\n| Assembly       | assembl     |\n| proportional   | proport     |\n| representation | represent   |\n\n\n\nSentence 3\n| Original   | Stemmed    |\n|------------+------------|\n| The        | the        |\n| Parliament | parliament |\n| sanctioned | sanction   |\n| strength   | strength   |\n| 543        | 543        |\n| Lok        | lok        |\n| Sabha      | sabha      |\n| 245        | 245        |\n| Rajya      | rajya      |\n| Sabha      | sabha      |\n| including  | includ     |\n| 12         | 12         |\n| nominees   | nomine     |\n| expertise  | expertis   |\n| different  | differ     |\n| fields     | field      |\n| science    | scienc     |\n| culture    | cultur     |\n| art        | art        |\n| history    | histori    |\n\n\n\nSentence 4\n| Original   | Stemmed    |\n|------------+------------|\n| The        | the        |\n| Parliament | parliament |\n| meets      | meet       |\n| Sansad     | sansad     |\n| Bhavan     | bhavan     |\n| New        | new        |\n| Delhi      | delhi      |\n\n\n\n"
     ]
    }
   ],
   "source": [
    "# Stemming\n",
    "\n",
    "from nltk.stem import PorterStemmer\n",
    "ps = PorterStemmer()\n",
    "\n",
    "#Store the Original and Stemmed Word Pair for each sentence\n",
    "stem_res = []\n",
    "\n",
    "#Stemming\n",
    "for i in range(len(filtered_words)):\n",
    "  stem_res.append([]);\n",
    "  for j in range(len(filtered_words[i])):\n",
    "    stem_res[i].append([filtered_words[i][j],ps.stem(filtered_words[i][j])])\n",
    "\n",
    "#Compare the Original and Lemmatized Output\n",
    "for i in range(len(stem_res)):\n",
    "  print(\"Sentence {}\".format(i+1))\n",
    "  print(tabulate(stem_res[i],headers=['Original','Stemmed'],tablefmt='orgtbl'))\n",
    "  print(\"\\n\\n\")"
   ]
  },
  {
   "source": [
    "### 2. Synonyms of Strength, Council and bicameral from a given file"
   ],
   "cell_type": "markdown",
   "metadata": {}
  },
  {
   "cell_type": "code",
   "execution_count": 123,
   "metadata": {},
   "outputs": [],
   "source": [
    "import csv\n",
    "\n",
    "class syn_replacer(object):\n",
    "\n",
    "  def __init__(self):\n",
    "\n",
    "    #Reading Word Map from CSV File\n",
    "    self.word_map = {}\n",
    "\n",
    "    for line in csv.reader(open('synonym.csv')):\n",
    "      word, syn = line\n",
    "      self.word_map[word] = syn\n",
    "  \n",
    "\n",
    "  def replace(self,word):\n",
    "    return self.word_map.get(word,word)\n",
    "\n",
    "  def replace_sent(self,sent):\n",
    "    w_list = sent.split(\" \")\n",
    "    w_list = [self.word_map.get(w,w) for w in w_list]\n",
    "    return w_list"
   ]
  },
  {
   "cell_type": "code",
   "execution_count": 124,
   "metadata": {},
   "outputs": [
    {
     "output_type": "execute_result",
     "data": {
      "text/plain": [
       "['The',\n",
       " 'strongness',\n",
       " 'of',\n",
       " 'our',\n",
       " 'two-house',\n",
       " 'assembly',\n",
       " 'is',\n",
       " 'that',\n",
       " '...']"
      ]
     },
     "metadata": {},
     "execution_count": 124
    }
   ],
   "source": [
    "syn_rep = syn_replacer()\n",
    "syn_rep.replace_sent('The strength of our bicameral council is that ...')"
   ]
  },
  {
   "cell_type": "code",
   "execution_count": 125,
   "metadata": {},
   "outputs": [
    {
     "output_type": "stream",
     "name": "stdout",
     "text": [
      "['Those', 'elected', 'or', 'nominated', '(by', 'the', 'President)', 'to', 'either', 'house', 'of', 'Parliament', 'are', 'referred', 'to', 'as', 'Members', 'of', 'Parliament', '(MP).']\n['The', 'Members', 'of', 'Parliament,', 'Lok', 'Sabha', 'are', 'directly', 'elected', 'by', 'the', 'Indian', 'public', 'voting', 'in', 'Single-member', 'districts', 'and', 'the', 'Members', 'of', 'Parliament,', 'Rajya', 'Sabha', 'are', 'elected', 'by', 'the', 'members', 'of', 'all', 'State', 'Legislative', 'Assembly', 'by', 'proportional', 'representation.']\n['The', 'Parliament', 'has', 'a', 'sanctioned', 'strongness', 'of', '543', 'in', 'Lok', 'Sabha', 'and', '245', 'in', 'Rajya', 'Sabha', 'including', 'the', '12', 'nominees', 'from', 'the', 'expertise', 'of', 'different', 'fields', 'of', 'science,', 'culture,', 'art', 'and', 'history.']\n['The', 'Parliament', 'meets', 'at', 'Sansad', 'Bhavan', 'in', 'New', 'Delhi.']\n"
     ]
    }
   ],
   "source": [
    "for sent in sentences:\n",
    "    print(syn_rep.replace_sent(sent))"
   ]
  },
  {
   "source": [
    "### 3. Defination of voting using wordnet"
   ],
   "cell_type": "markdown",
   "metadata": {}
  },
  {
   "cell_type": "code",
   "execution_count": 126,
   "metadata": {},
   "outputs": [
    {
     "output_type": "stream",
     "name": "stdout",
     "text": [
      "Definiation =>  a choice that is made by counting the number of people in favor of each alternative\n"
     ]
    }
   ],
   "source": [
    "from nltk.corpus import wordnet\n",
    "\n",
    "word = \"voting\"\n",
    "\n",
    "print(\"Definiation => \",wordnet.synsets(word)[0].definition())"
   ]
  },
  {
   "source": [
    "### 4. Tokenize and tag all words in 1st para with penn treebank tagset"
   ],
   "cell_type": "markdown",
   "metadata": {}
  },
  {
   "cell_type": "code",
   "execution_count": 127,
   "metadata": {},
   "outputs": [
    {
     "output_type": "execute_result",
     "data": {
      "text/plain": [
       "[('The', 'DT'),\n",
       " ('Parliament', 'NNP'),\n",
       " ('of', 'IN'),\n",
       " ('India', 'NNP'),\n",
       " ('is', 'VBZ'),\n",
       " ('the', 'DT'),\n",
       " ('supreme', 'JJ'),\n",
       " ('legislative', 'JJ'),\n",
       " ('body', 'NN'),\n",
       " ('of', 'IN'),\n",
       " ('the', 'DT'),\n",
       " ('Republic', 'NNP'),\n",
       " ('of', 'IN'),\n",
       " ('India', 'NNP'),\n",
       " ('.', '.'),\n",
       " ('It', 'PRP'),\n",
       " ('is', 'VBZ'),\n",
       " ('a', 'DT'),\n",
       " ('bicameral', 'JJ'),\n",
       " ('legislature', 'NN'),\n",
       " ('composed', 'VBN'),\n",
       " ('of', 'IN'),\n",
       " ('the', 'DT'),\n",
       " ('President', 'NNP'),\n",
       " ('of', 'IN'),\n",
       " ('India', 'NNP'),\n",
       " ('and', 'CC'),\n",
       " ('the', 'DT'),\n",
       " ('two', 'CD'),\n",
       " ('houses', 'NNS'),\n",
       " (':', ':'),\n",
       " ('the', 'DT'),\n",
       " ('Rajya', 'NNP'),\n",
       " ('Sabha', 'NNP'),\n",
       " ('(', '('),\n",
       " ('Council', 'NNP'),\n",
       " ('of', 'IN'),\n",
       " ('States', 'NNPS'),\n",
       " (')', ')'),\n",
       " ('and', 'CC'),\n",
       " ('the', 'DT'),\n",
       " ('Lok', 'NNP'),\n",
       " ('Sabha', 'NNP'),\n",
       " ('(', '('),\n",
       " ('House', 'NNP'),\n",
       " ('of', 'IN'),\n",
       " ('the', 'DT'),\n",
       " ('People', 'NNP'),\n",
       " (')', ')'),\n",
       " ('.', '.'),\n",
       " ('The', 'DT'),\n",
       " ('President', 'NNP'),\n",
       " ('in', 'IN'),\n",
       " ('his', 'PRP$'),\n",
       " ('role', 'NN'),\n",
       " ('as', 'IN'),\n",
       " ('head', 'NN'),\n",
       " ('of', 'IN'),\n",
       " ('legislature', 'NN'),\n",
       " ('has', 'VBZ'),\n",
       " ('full', 'JJ'),\n",
       " ('powers', 'NNS'),\n",
       " ('to', 'TO'),\n",
       " ('summon', 'VB'),\n",
       " ('and', 'CC'),\n",
       " ('prorogue', 'VB'),\n",
       " ('either', 'DT'),\n",
       " ('house', 'NN'),\n",
       " ('of', 'IN'),\n",
       " ('Parliament', 'NNP'),\n",
       " ('or', 'CC'),\n",
       " ('to', 'TO'),\n",
       " ('dissolve', 'VB'),\n",
       " ('Lok', 'NNP'),\n",
       " ('Sabha', 'NNP'),\n",
       " ('.', '.'),\n",
       " ('The', 'DT'),\n",
       " ('president', 'NN'),\n",
       " ('can', 'MD'),\n",
       " ('exercise', 'VB'),\n",
       " ('these', 'DT'),\n",
       " ('powers', 'NNS'),\n",
       " ('only', 'RB'),\n",
       " ('upon', 'IN'),\n",
       " ('the', 'DT'),\n",
       " ('advice', 'NN'),\n",
       " ('of', 'IN'),\n",
       " ('the', 'DT'),\n",
       " ('Prime', 'NNP'),\n",
       " ('Minister', 'NNP'),\n",
       " ('and', 'CC'),\n",
       " ('his', 'PRP$'),\n",
       " ('Union', 'NNP'),\n",
       " ('Council', 'NNP'),\n",
       " ('of', 'IN'),\n",
       " ('Ministers', 'NNP'),\n",
       " ('.', '.')]"
      ]
     },
     "metadata": {},
     "execution_count": 127
    }
   ],
   "source": [
    "words = word_tokenize(text_1)\n",
    "nltk.pos_tag(words)"
   ]
  },
  {
   "source": [
    "### 5. Use bigram tagger to tag the 2nd paragraph and calculate the accuracy"
   ],
   "cell_type": "markdown",
   "metadata": {}
  },
  {
   "cell_type": "code",
   "execution_count": 128,
   "metadata": {},
   "outputs": [],
   "source": [
    "tagged_sents = nltk.pos_tag_sents(filtered_words)"
   ]
  },
  {
   "cell_type": "code",
   "execution_count": 129,
   "metadata": {},
   "outputs": [
    {
     "output_type": "execute_result",
     "data": {
      "text/plain": [
       "[[('Those', 'DT'),\n",
       "  ('elected', 'VBN'),\n",
       "  ('nominated', 'JJ'),\n",
       "  ('President', 'NNP'),\n",
       "  ('either', 'CC'),\n",
       "  ('house', 'NN'),\n",
       "  ('Parliament', 'NN'),\n",
       "  ('referred', 'VBD'),\n",
       "  ('Members', 'NNP'),\n",
       "  ('Parliament', 'NNP'),\n",
       "  ('MP', 'NNP')],\n",
       " [('The', 'DT'),\n",
       "  ('Members', 'NNPS'),\n",
       "  ('Parliament', 'NNP'),\n",
       "  ('Lok', 'NNP'),\n",
       "  ('Sabha', 'NNP'),\n",
       "  ('directly', 'RB'),\n",
       "  ('elected', 'VBD'),\n",
       "  ('Indian', 'JJ'),\n",
       "  ('public', 'JJ'),\n",
       "  ('voting', 'VBG'),\n",
       "  ('Single-member', 'NNP'),\n",
       "  ('districts', 'NNS'),\n",
       "  ('Members', 'NNP'),\n",
       "  ('Parliament', 'NNP'),\n",
       "  ('Rajya', 'NNP'),\n",
       "  ('Sabha', 'NNP'),\n",
       "  ('elected', 'VBD'),\n",
       "  ('members', 'NNS'),\n",
       "  ('State', 'NNP'),\n",
       "  ('Legislative', 'NNP'),\n",
       "  ('Assembly', 'NNP'),\n",
       "  ('proportional', 'JJ'),\n",
       "  ('representation', 'NN')],\n",
       " [('The', 'DT'),\n",
       "  ('Parliament', 'NNP'),\n",
       "  ('sanctioned', 'VBD'),\n",
       "  ('strength', 'NN'),\n",
       "  ('543', 'CD'),\n",
       "  ('Lok', 'NNP'),\n",
       "  ('Sabha', 'NNP'),\n",
       "  ('245', 'CD'),\n",
       "  ('Rajya', 'NNP'),\n",
       "  ('Sabha', 'NNP'),\n",
       "  ('including', 'VBG'),\n",
       "  ('12', 'CD'),\n",
       "  ('nominees', 'JJ'),\n",
       "  ('expertise', 'RB'),\n",
       "  ('different', 'JJ'),\n",
       "  ('fields', 'NNS'),\n",
       "  ('science', 'NN'),\n",
       "  ('culture', 'NN'),\n",
       "  ('art', 'NN'),\n",
       "  ('history', 'NN')],\n",
       " [('The', 'DT'),\n",
       "  ('Parliament', 'NNP'),\n",
       "  ('meets', 'NNS'),\n",
       "  ('Sansad', 'NNP'),\n",
       "  ('Bhavan', 'NNP'),\n",
       "  ('New', 'NNP'),\n",
       "  ('Delhi', 'NNP')]]"
      ]
     },
     "metadata": {},
     "execution_count": 129
    }
   ],
   "source": [
    "tagged_sents"
   ]
  },
  {
   "cell_type": "code",
   "execution_count": 130,
   "metadata": {},
   "outputs": [],
   "source": [
    "#Define the train and test set\n",
    "#80% Train and 20%Test\n",
    "l = int(len(tagged_sents)*0.80)\n",
    "train_set = tagged_sents[:l]\n",
    "test_set = tagged_sents[l:]"
   ]
  },
  {
   "cell_type": "code",
   "execution_count": 131,
   "metadata": {},
   "outputs": [
    {
     "output_type": "stream",
     "name": "stdout",
     "text": [
      "Accuracy :  28.57  %\n"
     ]
    }
   ],
   "source": [
    "from nltk.tag import BigramTagger\n",
    "\n",
    "bigram_tagger = BigramTagger(train_set)\n",
    "accuracy = bigram_tagger.evaluate(test_set)\n",
    "\n",
    "print(\"Accuracy : \",round((accuracy*100),2),\" %\")"
   ]
  },
  {
   "source": [
    "### 6. Create a CFG rule and implement a chart parser"
   ],
   "cell_type": "markdown",
   "metadata": {}
  },
  {
   "cell_type": "code",
   "execution_count": 132,
   "metadata": {},
   "outputs": [],
   "source": [
    "grammar = CFG.fromstring(\"\"\"\n",
    "    S -> NP VP\n",
    "    PP -> P NP\n",
    "    NP -> 'the' N | N PP | 'the' N PP\n",
    "    VP -> V NP | V PP | V NP PP\n",
    "    N -> 'cat' | 'dog' | 'rug'\n",
    "    V -> 'chased' | 'sat'\n",
    "    P -> 'in' | 'on'\n",
    "\"\"\")"
   ]
  },
  {
   "cell_type": "code",
   "execution_count": 133,
   "metadata": {},
   "outputs": [
    {
     "output_type": "execute_result",
     "data": {
      "text/plain": [
       "<Grammar with 14 productions>"
      ]
     },
     "metadata": {},
     "execution_count": 133
    }
   ],
   "source": [
    "grammer"
   ]
  },
  {
   "cell_type": "code",
   "execution_count": 134,
   "metadata": {},
   "outputs": [
    {
     "output_type": "stream",
     "name": "stdout",
     "text": [
      "(S (NP (Det the) (N dog)) (VP (V chased) (NP (Det a) (N cat))))\n"
     ]
    }
   ],
   "source": [
    "sentence = 'the dog chased a cat'\n",
    "sentence = word_tokenize(sentence)\n",
    "\n",
    "chart_parser = nltk.ChartParser(grammer)\n",
    "\n",
    "for t in chart_parser.parse(sentence):\n",
    "  print(t)"
   ]
  },
  {
   "source": [
    "### 7. Draw a parse tree for an ambiguous sentence"
   ],
   "cell_type": "markdown",
   "metadata": {}
  },
  {
   "cell_type": "code",
   "execution_count": 135,
   "metadata": {},
   "outputs": [],
   "source": [
    "sent = 'the cat chased the dog on the rug'\n",
    "sent = word_tokenize(sent)"
   ]
  },
  {
   "cell_type": "code",
   "execution_count": 136,
   "metadata": {},
   "outputs": [],
   "source": [
    "\n",
    "parser = nltk.RecursiveDescentParser(grammar)"
   ]
  },
  {
   "cell_type": "code",
   "execution_count": 137,
   "metadata": {},
   "outputs": [
    {
     "output_type": "stream",
     "name": "stdout",
     "text": [
      "['the', 'cat', 'chased', 'the', 'dog', 'on', 'the', 'rug']\n\n(S\n  (NP the (N cat))\n  (VP (V chased) (NP the (N dog) (PP (P on) (NP the (N rug))))))\n(S\n  (NP the (N cat))\n  (VP (V chased) (NP the (N dog)) (PP (P on) (NP the (N rug)))))\n"
     ]
    }
   ],
   "source": [
    "print(sent, end=\"\\n\\n\")\n",
    "for t in list(parser.parse(sent)):\n",
    "    print(t)"
   ]
  },
  {
   "cell_type": "code",
   "execution_count": null,
   "metadata": {},
   "outputs": [],
   "source": []
  }
 ]
}